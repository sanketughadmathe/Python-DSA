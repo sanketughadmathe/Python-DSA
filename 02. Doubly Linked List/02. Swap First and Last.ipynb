{
 "cells": [
  {
   "cell_type": "code",
   "execution_count": 1,
   "metadata": {},
   "outputs": [],
   "source": [
    "from DoublyLinkedList import doublyLinkedlist"
   ]
  },
  {
   "cell_type": "code",
   "execution_count": 2,
   "metadata": {},
   "outputs": [],
   "source": [
    "my_doulby_linked_list = doublyLinkedlist()"
   ]
  },
  {
   "cell_type": "code",
   "execution_count": 3,
   "metadata": {},
   "outputs": [
    {
     "name": "stdout",
     "output_type": "stream",
     "text": [
      "8 <-> 9 <-> 10 <-> 11 <-> "
     ]
    }
   ],
   "source": [
    "my_doulby_linked_list.append(8)\n",
    "my_doulby_linked_list.append(9)\n",
    "my_doulby_linked_list.append(10)\n",
    "my_doulby_linked_list.append(11)\n",
    "\n",
    "my_doulby_linked_list.printList()"
   ]
  },
  {
   "cell_type": "code",
   "execution_count": 4,
   "metadata": {},
   "outputs": [],
   "source": [
    "def swap_first_last(self):\n",
    "    \"\"\"Swap the first and last elements of a list.\"\"\"\n",
    "    if (self.head == None and self.head == self.tail):\n",
    "        return \n",
    "    self.head.value, self.tail.value = self.tail.value, self.head.value"
   ]
  },
  {
   "cell_type": "code",
   "execution_count": 5,
   "metadata": {},
   "outputs": [
    {
     "name": "stdout",
     "output_type": "stream",
     "text": [
      "11 <-> 9 <-> 10 <-> 8 <-> "
     ]
    }
   ],
   "source": [
    "swap_first_last(my_doulby_linked_list)\n",
    "my_doulby_linked_list.printList()"
   ]
  }
 ],
 "metadata": {
  "kernelspec": {
   "display_name": "Python 3",
   "language": "python",
   "name": "python3"
  },
  "language_info": {
   "codemirror_mode": {
    "name": "ipython",
    "version": 3
   },
   "file_extension": ".py",
   "mimetype": "text/x-python",
   "name": "python",
   "nbconvert_exporter": "python",
   "pygments_lexer": "ipython3",
   "version": "3.10.4"
  },
  "orig_nbformat": 4
 },
 "nbformat": 4,
 "nbformat_minor": 2
}
