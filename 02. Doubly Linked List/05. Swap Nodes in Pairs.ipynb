{
 "cells": [
  {
   "cell_type": "code",
   "execution_count": 1,
   "metadata": {},
   "outputs": [],
   "source": [
    "from DoublyLinkedList import doublyLinkedlist, Node"
   ]
  },
  {
   "cell_type": "code",
   "execution_count": 2,
   "metadata": {},
   "outputs": [
    {
     "name": "stdout",
     "output_type": "stream",
     "text": [
      "\n",
      "\n",
      "8 <-> 9 <-> 10 <-> 11 <-> 12 <-> 11 <-> 13 <-> 11 <-> 14 <-> 11 <-> \n",
      "\n"
     ]
    }
   ],
   "source": [
    "my_doulby_linked_list = doublyLinkedlist()\n",
    "\n",
    "my_doulby_linked_list.append(8)\n",
    "my_doulby_linked_list.append(9)\n",
    "my_doulby_linked_list.append(10)\n",
    "my_doulby_linked_list.append(11)\n",
    "my_doulby_linked_list.append(12)\n",
    "my_doulby_linked_list.append(11)\n",
    "my_doulby_linked_list.append(13)\n",
    "my_doulby_linked_list.append(11)\n",
    "my_doulby_linked_list.append(14)\n",
    "my_doulby_linked_list.append(11)\n",
    "\n",
    "print('\\n')\n",
    "my_doulby_linked_list.printList()\n",
    "print('\\n')"
   ]
  },
  {
   "cell_type": "code",
   "execution_count": 3,
   "metadata": {},
   "outputs": [],
   "source": [
    "def swap_pairs(self):\n",
    "    dummy = Node(0)\n",
    "    dummy.next = self.head\n",
    "    prev = dummy\n",
    "\n",
    "    while (self.head != None and self.head.next != None):\n",
    "        firstNode = self.head\n",
    "        secondNode = self.head.next\n",
    "\n",
    "        prev.next = secondNode\n",
    "        firstNode.next = secondNode.next\n",
    "        secondNode.next = firstNode\n",
    "\n",
    "        secondNode.prev = prev\n",
    "        firstNode.prev = secondNode\n",
    "        if firstNode == None:\n",
    "            firstNode.next.prev = firstNode\n",
    "        \n",
    "        self.head = firstNode.next\n",
    "        prev = firstNode\n",
    "\n",
    "    self.head = dummy.next"
   ]
  },
  {
   "cell_type": "code",
   "execution_count": 4,
   "metadata": {},
   "outputs": [
    {
     "name": "stdout",
     "output_type": "stream",
     "text": [
      "9 <-> 8 <-> 11 <-> 10 <-> 11 <-> 12 <-> 11 <-> 13 <-> 11 <-> 14 <-> \n",
      "\n"
     ]
    }
   ],
   "source": [
    "swap_pairs(my_doulby_linked_list)\n",
    "my_doulby_linked_list.printList()\n",
    "print('\\n')"
   ]
  },
  {
   "cell_type": "code",
   "execution_count": null,
   "metadata": {},
   "outputs": [],
   "source": []
  }
 ],
 "metadata": {
  "kernelspec": {
   "display_name": "Python 3",
   "language": "python",
   "name": "python3"
  },
  "language_info": {
   "codemirror_mode": {
    "name": "ipython",
    "version": 3
   },
   "file_extension": ".py",
   "mimetype": "text/x-python",
   "name": "python",
   "nbconvert_exporter": "python",
   "pygments_lexer": "ipython3",
   "version": "3.11.3"
  },
  "orig_nbformat": 4
 },
 "nbformat": 4,
 "nbformat_minor": 2
}
