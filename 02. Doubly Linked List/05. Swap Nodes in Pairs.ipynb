{
 "cells": [
  {
   "cell_type": "code",
   "execution_count": 3,
   "metadata": {},
   "outputs": [],
   "source": [
    "from DoublyLinkedList import doublyLinkedlist, Node"
   ]
  },
  {
   "cell_type": "code",
   "execution_count": 4,
   "metadata": {},
   "outputs": [
    {
     "name": "stdout",
     "output_type": "stream",
     "text": [
      "\n",
      "\n",
      "8 <-> 9 <-> 10 <-> 11 <-> \n",
      "\n"
     ]
    }
   ],
   "source": [
    "my_doulby_linked_list = doublyLinkedlist()\n",
    "\n",
    "my_doulby_linked_list.append(8)\n",
    "my_doulby_linked_list.append(9)\n",
    "my_doulby_linked_list.append(10)\n",
    "my_doulby_linked_list.append(11)\n",
    "\n",
    "print('\\n')\n",
    "my_doulby_linked_list.printList()\n",
    "print('\\n')"
   ]
  },
  {
   "cell_type": "code",
   "execution_count": null,
   "metadata": {},
   "outputs": [],
   "source": [
    "def swap_pairs(self):\n",
    "    dummy = Node(0)\n",
    "    dummy.next = self.head\n",
    "    prev = None\n",
    "\n",
    "    while (self.next != None and self.head.next != None):\n",
    "        \n",
    "    pass"
   ]
  },
  {
   "cell_type": "code",
   "execution_count": null,
   "metadata": {},
   "outputs": [],
   "source": [
    "swap_pairs(my_doulby_linked_list)\n",
    "my_doulby_linked_list.printList()\n",
    "print('\\n')"
   ]
  }
 ],
 "metadata": {
  "kernelspec": {
   "display_name": "Python 3",
   "language": "python",
   "name": "python3"
  },
  "language_info": {
   "codemirror_mode": {
    "name": "ipython",
    "version": 3
   },
   "file_extension": ".py",
   "mimetype": "text/x-python",
   "name": "python",
   "nbconvert_exporter": "python",
   "pygments_lexer": "ipython3",
   "version": "3.10.4"
  },
  "orig_nbformat": 4
 },
 "nbformat": 4,
 "nbformat_minor": 2
}
