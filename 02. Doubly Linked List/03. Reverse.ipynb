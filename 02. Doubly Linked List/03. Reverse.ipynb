{
 "cells": [
  {
   "cell_type": "code",
   "execution_count": 1,
   "metadata": {},
   "outputs": [],
   "source": [
    "from DoublyLinkedList import doublyLinkedlist"
   ]
  },
  {
   "cell_type": "code",
   "execution_count": 2,
   "metadata": {},
   "outputs": [],
   "source": [
    "my_doulby_linked_list = doublyLinkedlist()"
   ]
  },
  {
   "cell_type": "code",
   "execution_count": 3,
   "metadata": {},
   "outputs": [
    {
     "name": "stdout",
     "output_type": "stream",
     "text": [
      "8 <-> 9 <-> 10 <-> 11 <-> "
     ]
    }
   ],
   "source": [
    "my_doulby_linked_list.append(8)\n",
    "my_doulby_linked_list.append(9)\n",
    "my_doulby_linked_list.append(10)\n",
    "my_doulby_linked_list.append(11)\n",
    "\n",
    "my_doulby_linked_list.printList()"
   ]
  },
  {
   "cell_type": "code",
   "execution_count": 4,
   "metadata": {},
   "outputs": [],
   "source": [
    "def reverse(self):\n",
    "    temp = self.head\n",
    "    while temp != None:\n",
    "        # swap the prev and next pointers of node points\n",
    "        temp.prev, temp.next = temp.next, temp.prev\n",
    "\n",
    "        # move to the next node\n",
    "        temp = temp.prev\n",
    "\n",
    "    # swap the head and tail pointers\n",
    "    self.head, self.tail = self.tail, self.head"
   ]
  },
  {
   "cell_type": "code",
   "execution_count": 5,
   "metadata": {},
   "outputs": [
    {
     "name": "stdout",
     "output_type": "stream",
     "text": [
      "11 <-> 10 <-> 9 <-> 8 <-> "
     ]
    }
   ],
   "source": [
    "reverse(my_doulby_linked_list)\n",
    "my_doulby_linked_list.printList()"
   ]
  }
 ],
 "metadata": {
  "kernelspec": {
   "display_name": "Python 3",
   "language": "python",
   "name": "python3"
  },
  "language_info": {
   "codemirror_mode": {
    "name": "ipython",
    "version": 3
   },
   "file_extension": ".py",
   "mimetype": "text/x-python",
   "name": "python",
   "nbconvert_exporter": "python",
   "pygments_lexer": "ipython3",
   "version": "3.10.4"
  },
  "orig_nbformat": 4
 },
 "nbformat": 4,
 "nbformat_minor": 2
}
