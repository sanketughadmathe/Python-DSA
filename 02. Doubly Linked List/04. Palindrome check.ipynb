{
 "cells": [
  {
   "cell_type": "code",
   "execution_count": 1,
   "metadata": {},
   "outputs": [],
   "source": [
    "from DoublyLinkedList import doublyLinkedlist"
   ]
  },
  {
   "cell_type": "code",
   "execution_count": 2,
   "metadata": {},
   "outputs": [
    {
     "name": "stdout",
     "output_type": "stream",
     "text": [
      "8 <-> 9 <-> 10 <-> 99 <-> 10 <-> 9 <-> 8 <-> "
     ]
    }
   ],
   "source": [
    "my_doulby_linked_list = doublyLinkedlist()\n",
    "\n",
    "my_doulby_linked_list.append(8)\n",
    "my_doulby_linked_list.append(9)\n",
    "my_doulby_linked_list.append(10)\n",
    "my_doulby_linked_list.append(99)\n",
    "my_doulby_linked_list.append(10)\n",
    "my_doulby_linked_list.append(9)\n",
    "my_doulby_linked_list.append(8)\n",
    "\n",
    "my_doulby_linked_list.printList()"
   ]
  },
  {
   "cell_type": "code",
   "execution_count": 5,
   "metadata": {},
   "outputs": [
    {
     "name": "stdout",
     "output_type": "stream",
     "text": [
      "Palindromic\n"
     ]
    },
    {
     "data": {
      "text/plain": [
       "True"
      ]
     },
     "execution_count": 5,
     "metadata": {},
     "output_type": "execute_result"
    }
   ],
   "source": [
    "def is_palindrome(self):\n",
    "    \"\"\"Function checks if a doubly linked list is palindrome or not\"\"\"\n",
    "\n",
    "    forward_node = self.head\n",
    "    backward_node = self.tail\n",
    "    \n",
    "    # Check base case where the length of DLL is less than equal to one\n",
    "    if self.length <= 1:\n",
    "        return True\n",
    "    \n",
    "    for i in range(self.length // 2):\n",
    "        \n",
    "        if forward_node.value != backward_node.value:\n",
    "            print(\"Not Palindromic\")\n",
    "            return False\n",
    "        \n",
    "        forward_node = forward_node.next\n",
    "        backward_node = backward_node.prev\n",
    "    print(\"Palindromic\")\n",
    "    return True\n",
    "\n",
    "is_palindrome(my_doulby_linked_list)"
   ]
  },
  {
   "cell_type": "code",
   "execution_count": 6,
   "metadata": {},
   "outputs": [
    {
     "name": "stdout",
     "output_type": "stream",
     "text": [
      "8 <-> 9 <-> 10 <-> 99 <-> 10 <-> 9 <-> 8 <-> "
     ]
    }
   ],
   "source": [
    "my_doulby_linked_list.printList()"
   ]
  },
  {
   "cell_type": "code",
   "execution_count": null,
   "metadata": {},
   "outputs": [],
   "source": []
  }
 ],
 "metadata": {
  "kernelspec": {
   "display_name": "Python 3",
   "language": "python",
   "name": "python3"
  },
  "language_info": {
   "codemirror_mode": {
    "name": "ipython",
    "version": 3
   },
   "file_extension": ".py",
   "mimetype": "text/x-python",
   "name": "python",
   "nbconvert_exporter": "python",
   "pygments_lexer": "ipython3",
   "version": "3.10.4"
  },
  "orig_nbformat": 4
 },
 "nbformat": 4,
 "nbformat_minor": 2
}
