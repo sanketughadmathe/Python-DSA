{
 "cells": [
  {
   "cell_type": "code",
   "execution_count": 1,
   "metadata": {},
   "outputs": [],
   "source": [
    "class Node():\n",
    "    def __init__(self, val) -> None:\n",
    "        self.value = val\n",
    "        self.next = None\n",
    "        self.prev = None\n",
    "\n",
    "class doublyLinkedlist:\n",
    "    def __init__(self, value) -> None:\n",
    "        newNode = Node(value)\n",
    "        self.head = newNode\n",
    "        self.tail = newNode\n",
    "        self.length = 1\n",
    "    \n",
    "    def printList(self):\n",
    "        temp_node=self.head\n",
    "        while (temp_node!=None):\n",
    "            print (\"% d\" %temp_node.value)\n",
    "            temp_node=temp_node.next\n",
    "    \n",
    "    # Append\n",
    "    def append(self, value):\n",
    "        newNode = Node(value)\n",
    "        if not self.head and not self.tail :\n",
    "            self.head = newNode\n",
    "            self.tail = newNode\n",
    "        else:\n",
    "            currentTailNode = self.tail\n",
    "            currentTailNode.next = newNode\n",
    "            newNode.prev = currentTailNode\n",
    "            self.tail = newNode\n",
    "        self.length += 1\n",
    "    # Pop\n",
    "    def pop(self):\n",
    "        \n",
    "        currentNodeToRemove = self.tail\n",
    "        if self.length == 0:\n",
    "            return None\n",
    "        if self.length == 1:\n",
    "            self.head = None\n",
    "            self.tail = None\n",
    "        else:\n",
    "            self.tail = self.tail.prev\n",
    "            self.tail.next = None\n",
    "            currentNodeToRemove.prev = None\n",
    "            # removedValue = currentNodeToRemove.value\n",
    "            # del currentNodeToRemove\n",
    "            # print(\"Removed Value:\", removedValue)\n",
    "\n",
    "        self.length -= 1\n",
    "    # Prepend\n",
    "    def prepend(self , value ):\n",
    "        newNode = Node(value)\n",
    "        if self.length == 0:\n",
    "            self.head = newNode\n",
    "            self.tail = newNode\n",
    "        else:\n",
    "            self.head.prev = newNode\n",
    "            newNode.next = self.head\n",
    "            self.head = newNode\n",
    "        self.length += 1\n",
    "        return True\n",
    "    \n",
    "    # Pop first\n",
    "    def popFirst(self):\n",
    "        if self.length == 0:\n",
    "            return None\n",
    "        if self.length == 1:\n",
    "            self.head = None\n",
    "            self.tail = None\n",
    "        else:\n",
    "            tempNode = self.head\n",
    "            self.head = self.head.next\n",
    "            self.head.prev = None\n",
    "            tempNode.next = None\n",
    "            # deletedValue = tempNode.value\n",
    "            # del tempNode\n",
    "            # print('Deleted:',deletedValue )\n",
    "        self.length-=1\n",
    "\n",
    "    # Get\n",
    "    def get(self, index):\n",
    "        # if index < 0 or index >= self.length:\n",
    "        if 0 < index >= self.length:\n",
    "            raise IndexError(\"Index out of range\")\n",
    "            return None\n",
    "        current_node=self.head\n",
    "        for i in range (index):\n",
    "            current_node = current_node.next\n",
    "        # print(current_node.value)\n",
    "        return current_node\n",
    "\n",
    "\n",
    "    # Set\n",
    "    def set(self, index, newValue):\n",
    "        nodeToChange = self.get(index)\n",
    "        if nodeToChange:\n",
    "            nodeToChange.value = newValue\n",
    "            # print (f\"Old value at {index} is: {oldValue}, New Value is : {newValue}\")\n",
    "            return True\n",
    "        return False\n",
    "        \n",
    "    # Insert\n",
    "    def insert(self, index, newValue):\n",
    "        if index < 0 or index > self.length:\n",
    "            return False\n",
    "        if index == 0:\n",
    "            return self.prepend(newValue)\n",
    "        if index == self.length:\n",
    "            return self.append(newValue)\n",
    "        newNode = Node(newValue)\n",
    "        temp = self.get(index-1)\n",
    "        newNode.next = temp.next\n",
    "        newNode.prev = temp\n",
    "        temp.next = newNode\n",
    "        self.length += 1\n",
    "\n",
    "        # temp = self.tail\n",
    "        # newNode.nex\n",
    "\n",
    "    # Remove by index\n",
    "    def remove(self, index):\n",
    "        if 0 < index >= self.length:\n",
    "            return None\n",
    "        if index == 0:\n",
    "            return self.popFirst()\n",
    "        if index == self.length - 1:\n",
    "            return self.pop()\n",
    "        currentNodeToRemove = self.get(index)\n",
    "        prevNode = currentNodeToRemove.prev\n",
    "        nextNode = currentNodeToRemove.next\n",
    "        prevNode.next = nextNode\n",
    "        nextNode.prev = prevNode\n",
    "        # del currentNodeToRemove\n",
    "        currentNodeToRemove.prev = None\n",
    "        currentNodeToRemove.next = None\n",
    "        self.length -= 1\n"
   ]
  },
  {
   "cell_type": "code",
   "execution_count": 2,
   "metadata": {},
   "outputs": [
    {
     "name": "stdout",
     "output_type": "stream",
     "text": [
      " 7\n",
      " 8\n",
      " 9\n",
      " 10\n",
      " 11\n"
     ]
    }
   ],
   "source": [
    "l = doublyLinkedlist(7)\n",
    "l.append(8)\n",
    "l.append(9)\n",
    "l.append(10)\n",
    "l.append(11)\n",
    "\n",
    "l.printList()"
   ]
  },
  {
   "cell_type": "code",
   "execution_count": 6,
   "metadata": {},
   "outputs": [
    {
     "name": "stdout",
     "output_type": "stream",
     "text": [
      " 6\n",
      " 7\n",
      " 8\n",
      " 88\n",
      " 9\n",
      " 88\n",
      " 10\n"
     ]
    }
   ],
   "source": [
    "l.insert(3, 88)\n",
    "l.printList()"
   ]
  },
  {
   "cell_type": "code",
   "execution_count": 12,
   "metadata": {},
   "outputs": [
    {
     "name": "stdout",
     "output_type": "stream",
     "text": [
      " 6\n",
      " 6\n",
      " 7\n",
      " 10\n"
     ]
    }
   ],
   "source": [
    "l.remove(3)\n",
    "l.printList()"
   ]
  },
  {
   "cell_type": "code",
   "execution_count": 10,
   "metadata": {},
   "outputs": [
    {
     "name": "stdout",
     "output_type": "stream",
     "text": [
      " 6\n",
      " 6\n",
      " 7\n",
      " 8\n",
      " 88\n",
      " 10\n"
     ]
    }
   ],
   "source": [
    "l.prepend(6)\n",
    "l.printList()"
   ]
  },
  {
   "cell_type": "code",
   "execution_count": null,
   "metadata": {},
   "outputs": [],
   "source": []
  },
  {
   "cell_type": "code",
   "execution_count": 11,
   "metadata": {},
   "outputs": [
    {
     "name": "stdout",
     "output_type": "stream",
     "text": [
      " 7\n",
      " 8\n",
      " 9\n",
      " 88\n",
      " 10\n"
     ]
    }
   ],
   "source": [
    "l.popFirst()\n",
    "l.printList()"
   ]
  },
  {
   "cell_type": "code",
   "execution_count": null,
   "metadata": {},
   "outputs": [],
   "source": []
  }
 ],
 "metadata": {
  "kernelspec": {
   "display_name": "Python 3",
   "language": "python",
   "name": "python3"
  },
  "language_info": {
   "codemirror_mode": {
    "name": "ipython",
    "version": 3
   },
   "file_extension": ".py",
   "mimetype": "text/x-python",
   "name": "python",
   "nbconvert_exporter": "python",
   "pygments_lexer": "ipython3",
   "version": "3.10.4"
  },
  "orig_nbformat": 4
 },
 "nbformat": 4,
 "nbformat_minor": 2
}
