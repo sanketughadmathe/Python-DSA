{
 "cells": [
  {
   "cell_type": "code",
   "execution_count": 1,
   "metadata": {},
   "outputs": [],
   "source": [
    "from LinkedList import Linkedlist"
   ]
  },
  {
   "cell_type": "code",
   "execution_count": 2,
   "metadata": {},
   "outputs": [],
   "source": [
    "def remove_duplicates(self):\n",
    "  \"\"\"Remove duplicates from the linked list.\"\"\"\n",
    "  values = set()\n",
    "  previoius = None      # keep track of last node with unique value seen so far.\n",
    "  current = self.head   # start at head of LinkedList\n",
    "  while current:\n",
    "    if current.value in values:\n",
    "      previoius.next = current.next  # skip over duplicate nodes\n",
    "    else:\n",
    "      values.add(current.value)   # add new, non-duplicate value to set\n",
    "      previoius = current         # update previous pointer for next iteration\n",
    "    current = current.next        # move on to next node"
   ]
  },
  {
   "cell_type": "code",
   "execution_count": 8,
   "metadata": {},
   "outputs": [
    {
     "name": "stdout",
     "output_type": "stream",
     "text": [
      "5 -> 6 -> 7 -> 1 -> 2 -> 3 -> 7 -> 6 -> 9 -> "
     ]
    }
   ],
   "source": [
    "my_linked_list = Linkedlist()\n",
    "my_linked_list.append(5)\n",
    "my_linked_list.append(6)\n",
    "my_linked_list.append(7)\n",
    "my_linked_list.append(1)\n",
    "my_linked_list.append(2)\n",
    "my_linked_list.append(3)\n",
    "my_linked_list.append(7)\n",
    "my_linked_list.append(6)\n",
    "my_linked_list.append(9)\n",
    "\n",
    "my_linked_list.print_list()"
   ]
  },
  {
   "cell_type": "code",
   "execution_count": 9,
   "metadata": {},
   "outputs": [
    {
     "name": "stdout",
     "output_type": "stream",
     "text": [
      "5 -> 6 -> 7 -> 1 -> 2 -> 3 -> 9 -> "
     ]
    }
   ],
   "source": [
    "middle_node = remove_duplicates(my_linked_list)\n",
    "my_linked_list.print_list()"
   ]
  },
  {
   "cell_type": "code",
   "execution_count": 48,
   "metadata": {},
   "outputs": [
    {
     "name": "stdout",
     "output_type": "stream",
     "text": [
      "5 -> 6 -> 7 -> 1 -> 2 -> 3 -> 7 -> 6 -> 9 -> \n",
      "\n",
      "==================================================\n",
      "5 -> 6 -> 7 -> 1 -> 2 -> 3 -> 9 -> "
     ]
    }
   ],
   "source": [
    "from LinkedList import Linkedlist\n",
    "\n",
    "\n",
    "def remove_duplicates(self):\n",
    "    \"\"\"Remove duplicates from the linked list.\"\"\"\n",
    "    values = set()\n",
    "    # keep track of last node with unique value seen so far.\n",
    "    previoius = None\n",
    "    current = self.head   # start at head of LinkedList\n",
    "    while current:\n",
    "        if current.value in values:\n",
    "            previoius.next = current.next  # skip over duplicate nodes\n",
    "        else:\n",
    "            values.add(current.value)   # add new, non-duplicate value to set\n",
    "            previoius = current         # update previous pointer for next iteration\n",
    "        current = current.next        # move on to next node\n",
    "\n",
    "\n",
    "my_linked_list = Linkedlist()\n",
    "my_linked_list.append(5)\n",
    "my_linked_list.append(6)\n",
    "my_linked_list.append(7)\n",
    "my_linked_list.append(1)\n",
    "my_linked_list.append(2)\n",
    "my_linked_list.append(3)\n",
    "my_linked_list.append(7)\n",
    "my_linked_list.append(6)\n",
    "my_linked_list.append(9)\n",
    "\n",
    "my_linked_list.print_list()\n",
    "print(\"\\n\")\n",
    "print(\"=\"*50)\n",
    "middle_node = remove_duplicates(my_linked_list)\n",
    "my_linked_list.print_list()"
   ]
  },
  {
   "cell_type": "code",
   "execution_count": 94,
   "metadata": {},
   "outputs": [],
   "source": [
    "def find_kth_from_end(ll, k):\n",
    "    slow = fast = ll.head   \n",
    "    for i in range(k):\n",
    "        if fast is None:\n",
    "            return None\n",
    "        fast = fast.next\n",
    "        # print(f\"** {i} **\")\n",
    "    # print(fast.value)\n",
    "    # print(slow.value)\n",
    "    # print(\"Loop begins\")\n",
    " \n",
    "    while fast:\n",
    "        slow = slow.next\n",
    "        fast = fast.next\n",
    "    #     print(fast)\n",
    "    #     print(slow.value)\n",
    "    # print(fast)\n",
    "        \n",
    "    return slow"
   ]
  },
  {
   "cell_type": "code",
   "execution_count": 95,
   "metadata": {},
   "outputs": [
    {
     "name": "stdout",
     "output_type": "stream",
     "text": [
      "5 -> 6 -> 7 -> 1 -> 2 -> 3 -> 9 -> "
     ]
    }
   ],
   "source": [
    "my_linked_list.print_list()"
   ]
  },
  {
   "cell_type": "code",
   "execution_count": 96,
   "metadata": {},
   "outputs": [
    {
     "name": "stdout",
     "output_type": "stream",
     "text": [
      "9 -> "
     ]
    }
   ],
   "source": [
    "s = find_kth_from_end(my_linked_list, 1)\n",
    "my_linked_list.print_ll_head(s)"
   ]
  },
  {
   "cell_type": "code",
   "execution_count": 97,
   "metadata": {},
   "outputs": [
    {
     "name": "stdout",
     "output_type": "stream",
     "text": [
      "0\n",
      "1\n",
      "2\n"
     ]
    }
   ],
   "source": [
    "m = 3\n",
    "for i in range(m):\n",
    "  print(i)"
   ]
  },
  {
   "cell_type": "code",
   "execution_count": null,
   "metadata": {},
   "outputs": [],
   "source": []
  }
 ],
 "metadata": {
  "kernelspec": {
   "display_name": "Python 3",
   "language": "python",
   "name": "python3"
  },
  "language_info": {
   "codemirror_mode": {
    "name": "ipython",
    "version": 3
   },
   "file_extension": ".py",
   "mimetype": "text/x-python",
   "name": "python",
   "nbconvert_exporter": "python",
   "pygments_lexer": "ipython3",
   "version": "3.10.4"
  },
  "orig_nbformat": 4
 },
 "nbformat": 4,
 "nbformat_minor": 2
}
