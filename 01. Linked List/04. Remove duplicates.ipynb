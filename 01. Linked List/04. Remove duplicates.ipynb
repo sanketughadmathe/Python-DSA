{
 "cells": [
  {
   "cell_type": "code",
   "execution_count": 1,
   "metadata": {},
   "outputs": [],
   "source": [
    "from LinkedList import Linkedlist"
   ]
  },
  {
   "cell_type": "code",
   "execution_count": 2,
   "metadata": {},
   "outputs": [],
   "source": [
    "def remove_duplicates(self):\n",
    "    \"\"\"Remove duplicates from the linked list.\"\"\"\n",
    "    values = set()\n",
    "    # keep track of last node with unique value seen so far.\n",
    "    previoius = None\n",
    "    current = self.head   # start at head of LinkedList\n",
    "    while current:\n",
    "        if current.value in values:\n",
    "            previoius.next = current.next  # skip over duplicate nodes\n",
    "        else:\n",
    "            values.add(current.value)   # add new, non-duplicate value to set\n",
    "            previoius = current         # update previous pointer for next iteration\n",
    "        current = current.next        # move on to next node"
   ]
  },
  {
   "cell_type": "code",
   "execution_count": 3,
   "metadata": {},
   "outputs": [
    {
     "name": "stdout",
     "output_type": "stream",
     "text": [
      "5 -> 6 -> 7 -> 1 -> 2 -> 3 -> 7 -> 6 -> 9 -> \n",
      "\n",
      "==================================================\n",
      "5 -> 6 -> 7 -> 1 -> 2 -> 3 -> 9 -> "
     ]
    }
   ],
   "source": [
    "my_linked_list = Linkedlist()\n",
    "my_linked_list.append(5)\n",
    "my_linked_list.append(6)\n",
    "my_linked_list.append(7)\n",
    "my_linked_list.append(1)\n",
    "my_linked_list.append(2)\n",
    "my_linked_list.append(3)\n",
    "my_linked_list.append(7)\n",
    "my_linked_list.append(6)\n",
    "my_linked_list.append(9)\n",
    "\n",
    "my_linked_list.print_list()\n",
    "print(\"\\n\")\n",
    "print(\"=\"*50)\n",
    "middle_node = remove_duplicates(my_linked_list)\n",
    "my_linked_list.print_list()\n"
   ]
  }
 ],
 "metadata": {
  "kernelspec": {
   "display_name": "Python 3",
   "language": "python",
   "name": "python3"
  },
  "language_info": {
   "codemirror_mode": {
    "name": "ipython",
    "version": 3
   },
   "file_extension": ".py",
   "mimetype": "text/x-python",
   "name": "python",
   "nbconvert_exporter": "python",
   "pygments_lexer": "ipython3",
   "version": "3.10.4"
  },
  "orig_nbformat": 4
 },
 "nbformat": 4,
 "nbformat_minor": 2
}
