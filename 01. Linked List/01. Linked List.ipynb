{
 "cells": [
  {
   "cell_type": "code",
   "execution_count": 1,
   "metadata": {},
   "outputs": [],
   "source": [
    "class Node:\n",
    "    def __init__(self, value) -> None:\n",
    "        self.value = value\n",
    "        self.next = None\n",
    "\n",
    "\n",
    "# class Linkedlist:\n",
    "#     def __init__(self, value) -> None:\n",
    "#         new_node = Node(value)\n",
    "#         self.head = new_node\n",
    "#         self.tail = new_node\n",
    "#         self.length = 1\n",
    "\n",
    "class Linkedlist:\n",
    "    def __init__(self) -> None:\n",
    "        # new_node = Node(value)\n",
    "        self.head = None\n",
    "        self.tail = None\n",
    "        self.length = 0\n",
    "    \n",
    "    # Print List\n",
    "    def print_list(self):\n",
    "        temp = self.head\n",
    "        while temp is not None:\n",
    "            # print(temp.value)\n",
    "            print(str(temp.value) + \" -> \", end = \"\")\n",
    "            temp = temp.next\n",
    "\n",
    "    # Append\n",
    "    def append(self, value) -> None:\n",
    "        new_node = Node(value)\n",
    "        if self.head == None:  # empty list case\n",
    "            self.head = new_node\n",
    "            self.tail = new_node\n",
    "        else:\n",
    "            self.tail.next = new_node\n",
    "            self.tail = new_node\n",
    "        self.length += 1\n",
    "        return True\n",
    "\n",
    "    # Pop\n",
    "    def pop(self) -> None:\n",
    "        if self.length == 0:\n",
    "            return None\n",
    "\n",
    "        pre = temp = self.head\n",
    "\n",
    "        while (temp.next != None):\n",
    "            pre = temp\n",
    "            temp = temp.next\n",
    "        self.tail = pre\n",
    "        self.tail.next = None\n",
    "        self.length -= 1\n",
    "        if self.length == 0:\n",
    "            self.head = None\n",
    "            self.tail = None\n",
    "        return temp\n",
    "\n",
    "    # Prepend\n",
    "    def prepend(self, value):\n",
    "        new_node = Node(value)\n",
    "        if self.length == 0:\n",
    "            self.head = new_node\n",
    "            self.tail = new_node\n",
    "        else:\n",
    "            new_node.next = self.head\n",
    "            self.head = new_node\n",
    "        self.length += 1\n",
    "        return True\n",
    "\n",
    "    # POP First\n",
    "    def pop_first(self):\n",
    "        if self.length == 0:\n",
    "            return None\n",
    "        temp = self.head\n",
    "        self.head = self.head.next\n",
    "        temp.next = None\n",
    "        self.length -= 1\n",
    "        if (self.length == 0):\n",
    "            self.tail = None\n",
    "        return temp\n",
    "\n",
    "    # Get\n",
    "    def get(self, index):\n",
    "        if index < 0 or index >= self.length:\n",
    "            # raise IndexError(\"Index out of range\")\n",
    "            return None\n",
    "        temp = self.head\n",
    "        for _ in range(index):\n",
    "            temp = temp.next\n",
    "        return temp\n",
    "\n",
    "    # Set\n",
    "    def set_value(self, index, value):\n",
    "        temp = self.get(index)\n",
    "        # if not temp is None:\n",
    "        if temp:\n",
    "            temp.value = value\n",
    "            return True\n",
    "        return False\n",
    "\n",
    "    # Insert\n",
    "    def insert(self, index, newValue):\n",
    "        if index < 0 or index > self.length:\n",
    "            return False\n",
    "        if index == 0:\n",
    "            return self.prepend(newValue)\n",
    "        if index == self.length:\n",
    "            return self.append(newValue)\n",
    "        new_node = Node(newValue)\n",
    "        temp = self.get(index)\n",
    "        new_node.next = temp.next\n",
    "        temp.next = new_node\n",
    "        self.length += 1\n",
    "        return True\n",
    "\n",
    "    # Reserse\n",
    "    def reverse(self):\n",
    "        \"\"\"Function to Reverse the Linked list\"\"\"\n",
    "        current = self.head\n",
    "        self.head = self.tail\n",
    "        self.tail = current\n",
    "\n",
    "        next = None\n",
    "        prev = None\n",
    "\n",
    "        for _ in range(self.length):\n",
    "            next = current.next\n",
    "            current.next = prev\n",
    "            prev = current\n",
    "            current = next"
   ]
  },
  {
   "cell_type": "code",
   "execution_count": 2,
   "metadata": {},
   "outputs": [
    {
     "name": "stdout",
     "output_type": "stream",
     "text": [
      "1 -> 2 -> 3 -> 4 -> "
     ]
    }
   ],
   "source": [
    "my_linked_list = Linkedlist()\n",
    "my_linked_list.append(1)\n",
    "my_linked_list.append(2)\n",
    "my_linked_list.append(3)\n",
    "my_linked_list.append(4)\n",
    "my_linked_list.print_list()"
   ]
  },
  {
   "cell_type": "code",
   "execution_count": 3,
   "metadata": {},
   "outputs": [
    {
     "name": "stdout",
     "output_type": "stream",
     "text": [
      "5 -> 1 -> 2 -> 3 -> 4 -> "
     ]
    }
   ],
   "source": [
    "my_linked_list.prepend(5)\n",
    "my_linked_list.print_list()"
   ]
  },
  {
   "cell_type": "code",
   "execution_count": 4,
   "metadata": {},
   "outputs": [
    {
     "name": "stdout",
     "output_type": "stream",
     "text": [
      "1 -> 2 -> 3 -> 4 -> "
     ]
    }
   ],
   "source": [
    "my_linked_list.pop_first()\n",
    "my_linked_list.print_list()"
   ]
  },
  {
   "cell_type": "code",
   "execution_count": 5,
   "metadata": {},
   "outputs": [
    {
     "data": {
      "text/plain": [
       "<__main__.Node at 0x1ef4969bdc0>"
      ]
     },
     "execution_count": 5,
     "metadata": {},
     "output_type": "execute_result"
    }
   ],
   "source": [
    "my_linked_list.get(0)"
   ]
  },
  {
   "cell_type": "code",
   "execution_count": 6,
   "metadata": {},
   "outputs": [
    {
     "name": "stdout",
     "output_type": "stream",
     "text": [
      "1 -> 66 -> 3 -> 4 -> "
     ]
    }
   ],
   "source": [
    "my_linked_list.set_value(1, 66)\n",
    "my_linked_list.print_list()"
   ]
  },
  {
   "cell_type": "code",
   "execution_count": 7,
   "metadata": {},
   "outputs": [
    {
     "name": "stdout",
     "output_type": "stream",
     "text": [
      "1 -> 66 -> 9 -> 3 -> 4 -> "
     ]
    }
   ],
   "source": [
    "my_linked_list.insert(1, 9)\n",
    "my_linked_list.print_list()"
   ]
  },
  {
   "cell_type": "code",
   "execution_count": 8,
   "metadata": {},
   "outputs": [
    {
     "name": "stdout",
     "output_type": "stream",
     "text": [
      "4 -> 3 -> 9 -> 66 -> 1 -> "
     ]
    }
   ],
   "source": [
    "my_linked_list.reverse()\n",
    "my_linked_list.print_list()"
   ]
  }
 ],
 "metadata": {
  "kernelspec": {
   "display_name": "Python 3",
   "language": "python",
   "name": "python3"
  },
  "language_info": {
   "codemirror_mode": {
    "name": "ipython",
    "version": 3
   },
   "file_extension": ".py",
   "mimetype": "text/x-python",
   "name": "python",
   "nbconvert_exporter": "python",
   "pygments_lexer": "ipython3",
   "version": "3.10.4"
  },
  "orig_nbformat": 4
 },
 "nbformat": 4,
 "nbformat_minor": 2
}
