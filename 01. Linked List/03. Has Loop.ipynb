{
 "cells": [
  {
   "cell_type": "code",
   "execution_count": 1,
   "metadata": {},
   "outputs": [],
   "source": [
    "from LinkedList import Linkedlist"
   ]
  },
  {
   "cell_type": "code",
   "execution_count": 2,
   "metadata": {},
   "outputs": [],
   "source": [
    "def has_loop(self):\n",
    "  \"\"\"Check if the linked list contains a loop.\"\"\"\n",
    "\n",
    "  # pointer to traverse with two steps at most (slow and fast)\n",
    "  slow = self.head\n",
    "  fast = self.head\n",
    "  while (fast != None and fast.next != None):\n",
    "    slow = slow.next  # move one step forward in both pointers\n",
    "    fast = fast.next.next\n",
    "    # check for loops by comparing current positions of slow & fast ptrs\n",
    "    if slow == fast:\n",
    "      return True\n",
    "  return False"
   ]
  },
  {
   "cell_type": "code",
   "execution_count": null,
   "metadata": {},
   "outputs": [],
   "source": []
  }
 ],
 "metadata": {
  "kernelspec": {
   "display_name": "Python 3",
   "language": "python",
   "name": "python3"
  },
  "language_info": {
   "codemirror_mode": {
    "name": "ipython",
    "version": 3
   },
   "file_extension": ".py",
   "mimetype": "text/x-python",
   "name": "python",
   "nbconvert_exporter": "python",
   "pygments_lexer": "ipython3",
   "version": "3.10.4"
  },
  "orig_nbformat": 4
 },
 "nbformat": 4,
 "nbformat_minor": 2
}
