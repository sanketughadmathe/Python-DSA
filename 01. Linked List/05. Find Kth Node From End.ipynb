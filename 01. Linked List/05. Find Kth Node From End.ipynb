{
 "cells": [
  {
   "cell_type": "code",
   "execution_count": 1,
   "metadata": {},
   "outputs": [],
   "source": [
    "from LinkedList import Linkedlist"
   ]
  },
  {
   "cell_type": "code",
   "execution_count": 2,
   "metadata": {},
   "outputs": [],
   "source": [
    "def find_kth_from_end(ll, k):\n",
    "    \"\"\"Find the K-th element from end of a linked list\"\"\"\n",
    "    fast = slow = ll.head\n",
    "\n",
    "    for _ in range(k):\n",
    "        if fast == None:\n",
    "            return None\n",
    "        else:\n",
    "            fast = fast.next\n",
    "        \n",
    "    # print(ll.print_ll_head(fast))\n",
    "    # print(slow.value)\n",
    "    # print(fast.value)\n",
    "    # print(\"=\"*50)\n",
    "    while fast != None:\n",
    "        slow = slow.next\n",
    "        fast = fast.next\n",
    "        # print(slow.value)\n",
    "        # print(fast)\n",
    "        # print(\"=\"*50)\n",
    "    return slow"
   ]
  },
  {
   "cell_type": "code",
   "execution_count": 3,
   "metadata": {},
   "outputs": [
    {
     "name": "stdout",
     "output_type": "stream",
     "text": [
      "5 -> 6 -> 7 -> 1 -> 2 -> 3 -> 7 -> 6 -> 9 -> "
     ]
    }
   ],
   "source": [
    "my_linked_list = Linkedlist()\n",
    "my_linked_list.append(5)\n",
    "my_linked_list.append(6)\n",
    "my_linked_list.append(7)\n",
    "my_linked_list.append(1)\n",
    "my_linked_list.append(2)\n",
    "my_linked_list.append(3)\n",
    "my_linked_list.append(7)\n",
    "my_linked_list.append(6)\n",
    "my_linked_list.append(9)\n",
    "\n",
    "my_linked_list.print_list()"
   ]
  },
  {
   "cell_type": "code",
   "execution_count": 4,
   "metadata": {},
   "outputs": [
    {
     "name": "stdout",
     "output_type": "stream",
     "text": [
      "5 -> 6 -> 7 -> 1 -> 2 -> 3 -> 7 -> 6 -> 9 -> "
     ]
    }
   ],
   "source": [
    "my_linked_list.print_list()"
   ]
  },
  {
   "cell_type": "code",
   "execution_count": 5,
   "metadata": {},
   "outputs": [
    {
     "name": "stdout",
     "output_type": "stream",
     "text": [
      "3 -> 7 -> 6 -> 9 -> "
     ]
    }
   ],
   "source": [
    "my_linked_list.print_ll_head(find_kth_from_end(my_linked_list, 4))"
   ]
  },
  {
   "cell_type": "code",
   "execution_count": 6,
   "metadata": {},
   "outputs": [
    {
     "name": "stdout",
     "output_type": "stream",
     "text": [
      "7 -> 1 -> 2 -> 3 -> 7 -> 6 -> 9 -> "
     ]
    }
   ],
   "source": [
    "my_linked_list.print_ll_head(find_kth_from_end(my_linked_list, 7))"
   ]
  }
 ],
 "metadata": {
  "kernelspec": {
   "display_name": "Python 3",
   "language": "python",
   "name": "python3"
  },
  "language_info": {
   "codemirror_mode": {
    "name": "ipython",
    "version": 3
   },
   "file_extension": ".py",
   "mimetype": "text/x-python",
   "name": "python",
   "nbconvert_exporter": "python",
   "pygments_lexer": "ipython3",
   "version": "3.10.4"
  },
  "orig_nbformat": 4
 },
 "nbformat": 4,
 "nbformat_minor": 2
}
