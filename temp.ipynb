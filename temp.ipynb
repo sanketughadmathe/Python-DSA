{
 "cells": [
  {
   "cell_type": "code",
   "execution_count": null,
   "metadata": {},
   "outputs": [],
   "source": [
    "class Node:\n",
    "\tdef __init__(self, value=None, next=None):\n",
    "\t\tself.value = value\n",
    "\t\tself.next = next\n",
    "\n",
    "class NodeOperation:\n",
    "\tdef pushNode(self, head_ref, value):\n",
    "\t\tnew_node = Node(value=value)\n",
    "\t\tnew_node.next = head_ref[0]\n",
    "\t\thead_ref[0] = new_node\n",
    "\n",
    "if __name__ == \"__main__\":\n",
    "\thead = [None]\n",
    "\ttemp = NodeOperation()\n",
    "\tfor i in range(5, 0, -1):\n",
    "\t\ttemp.pushNode(head, i)\n",
    "\tv = []\n",
    "\twhile head[0]:\n",
    "\t\tv.append(head[0].value)\n",
    "\t\thead[0] = head[0].next\n",
    "\tprint(\"Middle Value Of Linked List is :\", v[len(v)//2])"
   ]
  },
  {
   "cell_type": "code",
   "execution_count": 180,
   "metadata": {},
   "outputs": [],
   "source": [
    "class Node:\n",
    "    def __init__(self, value) -> None:\n",
    "        self.value = value\n",
    "        self.next = None\n",
    "\n",
    "\n",
    "class Linkedlist:\n",
    "    def __init__(self) -> None:\n",
    "        # new_node = Node(value)\n",
    "        self.head = None\n",
    "        self.tail = None\n",
    "        self.length = 0\n",
    "\n",
    "    # Print List\n",
    "    def print_list(self):\n",
    "        temp = self.head\n",
    "        while temp is not None:\n",
    "            # print(temp.value, end=\" \")\n",
    "            print(str(temp.value) + \" -> \", end = \"\")\n",
    "            temp = temp.next\n",
    "\n",
    "    # Append\n",
    "    def append(self, value) -> None:\n",
    "        new_node = Node(value)\n",
    "        if self.head == None:  # empty list case\n",
    "            self.head = new_node\n",
    "            self.tail = new_node\n",
    "        else:\n",
    "            self.tail.next = new_node\n",
    "            self.tail = new_node\n",
    "        self.length += 1\n",
    "        return True\n",
    "\n",
    "    # Pop\n",
    "    def pop(self) -> None:\n",
    "        if self.length == 0:\n",
    "            return None\n",
    "\n",
    "        pre = temp = self.head\n",
    "\n",
    "        while (temp.next != None):\n",
    "            pre = temp\n",
    "            temp = temp.next\n",
    "        self.tail = pre\n",
    "        self.tail.next = None\n",
    "        self.length -= 1\n",
    "        if self.length == 0:\n",
    "            self.head = None\n",
    "            self.tail = None\n",
    "        return temp\n",
    "\n",
    "    # Prepend\n",
    "    def prepend(self, value):\n",
    "        new_node = Node(value)\n",
    "        if self.length == 0:\n",
    "            self.head = new_node\n",
    "            self.tail = new_node\n",
    "        else:\n",
    "            new_node.next = self.head\n",
    "            self.head = new_node\n",
    "        self.length += 1\n",
    "        return True\n",
    "\n",
    "    # POP First\n",
    "    def pop_first(self):\n",
    "        if self.length == 0:\n",
    "            return None\n",
    "        temp = self.head\n",
    "        self.head = self.head.next\n",
    "        temp.next = None\n",
    "        self.length -= 1\n",
    "        if (self.length == 0):\n",
    "            self.tail = None\n",
    "        return temp\n",
    "\n",
    "    # Get\n",
    "    def get(self, index):\n",
    "        if index < 0 or index >= self.length:\n",
    "            # raise IndexError(\"Index out of range\")\n",
    "            return None\n",
    "        temp = self.head\n",
    "        for _ in range(index):\n",
    "            temp = temp.next\n",
    "        return temp\n",
    "\n",
    "    # Set\n",
    "    def set_value(self, index, value):\n",
    "        temp = self.get(index)\n",
    "        # if not temp is None:\n",
    "        if temp:\n",
    "            temp.value = value\n",
    "            return True\n",
    "        return False\n",
    "\n",
    "    # Insert\n",
    "    def insert(self, index, newValue):\n",
    "        if index < 0 or index > self.length:\n",
    "            return False\n",
    "        if index == 0:\n",
    "            return self.prepend(newValue)\n",
    "        if index == self.length:\n",
    "            return self.append(newValue)\n",
    "        new_node = Node(newValue)\n",
    "        temp = self.get(index)\n",
    "        new_node.next = temp.next\n",
    "        temp.next = new_node\n",
    "        self.length += 1\n",
    "        return True\n",
    "\n",
    "    # Reserse\n",
    "    def reverse(self):\n",
    "        \"\"\"Function to Reverse the Linked list\"\"\"\n",
    "        temp = self.head\n",
    "        self.head = self.tail\n",
    "        self.tail = temp\n",
    "        after = temp.next\n",
    "        before = None\n",
    "\n",
    "        for _ in range(self.length):\n",
    "            after = temp.next\n",
    "            temp.next = before\n",
    "            before = temp\n",
    "            temp = after\n",
    "        \n",
    "    # Middle Node\n",
    "    def middleNode(self, head):\n",
    "        \"\"\"\n",
    "        :type head: ListNode\n",
    "        :rtype: ListNode\n",
    "        \"\"\"\n",
    "        slow  = head\n",
    "        fast = head\n",
    "\n",
    "        while fast and fast.next:\n",
    "            slow = slow.next\n",
    "            fast = fast.next.next\n",
    "            head = slow\n",
    "\n",
    "        return slow\n",
    "    \n",
    "    # Remove Duplicates\n",
    "    def removeDuplicates(self):\n",
    "        values = set()\n",
    "        current = self.head\n",
    "        previous = None\n",
    "        while (current is not None):\n",
    "            value = str(current.value).lower().strip(\" \")\n",
    "            if current.value in values:\n",
    "                # print('Duplicate found:',str(previous))\n",
    "                previous.next=current.next\n",
    "            else:\n",
    "                values.add(current.value)\n",
    "                previous = current\n",
    "            current = current.next"
   ]
  },
  {
   "cell_type": "code",
   "execution_count": null,
   "metadata": {},
   "outputs": [],
   "source": []
  },
  {
   "cell_type": "code",
   "execution_count": 181,
   "metadata": {},
   "outputs": [
    {
     "name": "stdout",
     "output_type": "stream",
     "text": [
      "5 -> 4 -> 3 -> 2 -> 1 -> "
     ]
    }
   ],
   "source": [
    "my_linked_list = Linkedlist()\n",
    "for i in range(5, 0, -1):\n",
    "    my_linked_list.append(i)\n",
    "my_linked_list.print_list()"
   ]
  },
  {
   "cell_type": "code",
   "execution_count": 182,
   "metadata": {},
   "outputs": [
    {
     "name": "stdout",
     "output_type": "stream",
     "text": [
      "5 -> 4 -> 3 -> 2 -> 1 -> 5 -> 5 -> 4 -> 3 -> 7 -> "
     ]
    }
   ],
   "source": [
    "my_linked_list.append(5)\n",
    "my_linked_list.append(5)\n",
    "my_linked_list.append(4)\n",
    "my_linked_list.append(3)\n",
    "my_linked_list.append(7)\n",
    "my_linked_list.print_list()"
   ]
  },
  {
   "cell_type": "code",
   "execution_count": 183,
   "metadata": {},
   "outputs": [
    {
     "name": "stdout",
     "output_type": "stream",
     "text": [
      "5 -> 4 -> 3 -> 2 -> 1 -> 7 -> "
     ]
    }
   ],
   "source": [
    "my_linked_list.removeDuplicates()\n",
    "my_linked_list.print_list()"
   ]
  },
  {
   "cell_type": "code",
   "execution_count": null,
   "metadata": {},
   "outputs": [],
   "source": []
  },
  {
   "cell_type": "code",
   "execution_count": null,
   "metadata": {},
   "outputs": [],
   "source": []
  },
  {
   "cell_type": "code",
   "execution_count": 173,
   "metadata": {},
   "outputs": [
    {
     "name": "stdout",
     "output_type": "stream",
     "text": [
      "5 -> 5 -> 4 -> 3 -> 7 -> "
     ]
    }
   ],
   "source": [
    "op = my_linked_list.middleNode(my_linked_list.head)\n",
    "\n",
    "# Print List\n",
    "# def print_list(op):\n",
    "temp = op\n",
    "while temp is not None:\n",
    "    # print(temp.value, end=\" \")\n",
    "    print(str(temp.value) + \" -> \", end = \"\")\n",
    "    temp = temp.next"
   ]
  },
  {
   "cell_type": "code",
   "execution_count": 164,
   "metadata": {},
   "outputs": [
    {
     "name": "stdout",
     "output_type": "stream",
     "text": [
      "5 -> 4 -> 3 -> 2 -> 1 -> "
     ]
    }
   ],
   "source": [
    "my_linked_list.print_list()"
   ]
  },
  {
   "cell_type": "code",
   "execution_count": 165,
   "metadata": {},
   "outputs": [],
   "source": [
    "# # Definition for singly-linked list.\n",
    "# class ListNode(object):\n",
    "#     def __init__(self, val=0, next=None):\n",
    "#         self.val = val\n",
    "#         self.next = next\n",
    "# class Solution(object):\n",
    "#     def middleNode(self, head):\n",
    "#         \"\"\"\n",
    "#         :type head: ListNode\n",
    "#         :rtype: ListNode\n",
    "#         \"\"\"\n",
    "#         slow  = head\n",
    "#         fast = head\n",
    "\n",
    "#         while fast and fast.next:\n",
    "#             slow = slow.next\n",
    "#             fast = fast.next.next\n",
    "\n",
    "#         return slow\n",
    "\n",
    "#     # Print List\n",
    "#     def print_list(self):\n",
    "#         temp = self.head\n",
    "#         while temp is not None:\n",
    "#             # print(temp.value, end=\" \")\n",
    "#             print(str(temp.value) + \" -> \", end = \"\")\n",
    "#             temp = temp.next"
   ]
  },
  {
   "cell_type": "code",
   "execution_count": 166,
   "metadata": {},
   "outputs": [],
   "source": [
    "l = Solution()\n",
    "op = l.middleNode(my_linked_list.head)"
   ]
  },
  {
   "cell_type": "code",
   "execution_count": 167,
   "metadata": {},
   "outputs": [
    {
     "name": "stdout",
     "output_type": "stream",
     "text": [
      "3 -> 2 -> 1 -> "
     ]
    }
   ],
   "source": [
    "temp = op\n",
    "while temp is not None:\n",
    "    # print(temp.value, end=\" \")\n",
    "    print(str(temp.value) + \" -> \", end = \"\")\n",
    "    temp = temp.next"
   ]
  },
  {
   "cell_type": "code",
   "execution_count": 168,
   "metadata": {},
   "outputs": [],
   "source": [
    "    def find_middle_node(self):\n",
    "        slow = self.head\n",
    "        fast = self.head\n",
    "        while fast is not None and fast.next is not None:\n",
    "            slow = slow.next\n",
    "            fast = fast.next.next\n",
    "        return slow\n",
    "\n",
    "    def middleNode(self, head):\n",
    "        slow  = head\n",
    "        fast = head\n",
    "\n",
    "        while fast and fast.next:\n",
    "            slow = slow.next\n",
    "            fast = fast.next.next\n",
    "\n",
    "        return slow"
   ]
  },
  {
   "cell_type": "code",
   "execution_count": null,
   "metadata": {},
   "outputs": [],
   "source": []
  }
 ],
 "metadata": {
  "kernelspec": {
   "display_name": "Python 3",
   "language": "python",
   "name": "python3"
  },
  "language_info": {
   "codemirror_mode": {
    "name": "ipython",
    "version": 3
   },
   "file_extension": ".py",
   "mimetype": "text/x-python",
   "name": "python",
   "nbconvert_exporter": "python",
   "pygments_lexer": "ipython3",
   "version": "3.10.4"
  },
  "orig_nbformat": 4
 },
 "nbformat": 4,
 "nbformat_minor": 2
}
